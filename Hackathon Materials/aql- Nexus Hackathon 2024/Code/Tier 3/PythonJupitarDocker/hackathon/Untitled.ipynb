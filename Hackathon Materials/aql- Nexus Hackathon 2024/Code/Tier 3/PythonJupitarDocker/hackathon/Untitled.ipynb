{
 "cells": [
  {
   "cell_type": "code",
   "execution_count": 24,
   "id": "81bdf45f-30e0-45e5-a772-1dc15c0db2f4",
   "metadata": {},
   "outputs": [
    {
     "data": {
      "text/plain": [
       "DataTransformerRegistry.enable('vegafusion')"
      ]
     },
     "execution_count": 24,
     "metadata": {},
     "output_type": "execute_result"
    }
   ],
   "source": [
    "import polars as pl\n",
    "import altair as alt\n",
    "from prophet import Prophet\n",
    "\n",
    "alt.data_transformers.enable(\"vegafusion\")"
   ]
  },
  {
   "cell_type": "raw",
   "id": "97ce96d9-b50a-4143-8a8c-d1d97e3cbca2",
   "metadata": {},
   "source": [
    "h:[ \"QLyjtxlygOB\", \"wgBEUpVWkK0\", \"XVEOCJDzj2B\", \"pVMZSDOBqmQ\", \"QL4rHxlygOB\", \"l6rYi7PvmxO\", \"wgJlIpVWkK0\", \"XV83tJDzj2B\", \"DEmDfPJkwqj\", \"4qDKCo9vEgY\", \"pqp0IDOBqmQ\", \"Q2pNSxlygOB\", \"wA40TpVWkK0\", \"X0OBHJDzj2B\" ]\n",
    "\n",
    "\n",
    "t:[ \"DEg9FPJkwqj\", \"yk3Qtn2RKZ6\", \"KEnkUJMGPO8\", \"8Y5psrPKW1O\", \"DE4ESPJkwqj\", \"4KXMso9vEgY\", \"ykLJTn2RKZ6\", \"KE3DhJMGPO8\", \"pVxnSDOBqmQ\", \"Q2qkSxlygOB\", \"8xnNCrPKW1O\", \"D2DpfPJkwqj\", \"yDGZCn2RKZ6\", \"K2xESJMGPO8\" ]"
   ]
  },
  {
   "cell_type": "code",
   "execution_count": 28,
   "id": "a7072e1a-9db4-4c68-bf72-5302eb77164d",
   "metadata": {
    "scrolled": true
   },
   "outputs": [
    {
     "name": "stdout",
     "output_type": "stream",
     "text": [
      "  % Total    % Received % Xferd  Average Speed   Time    Time     Time  Current\n",
      "                                 Dload  Upload   Total   Spent    Left  Speed\n",
      "100   356    0    30  100   326    180   1962 --:--:-- --:--:-- --:--:--  2144\n"
     ]
    }
   ],
   "source": [
    "!(curl --location 'https://api.core.aql.com/v1/sensors/sensor-data/aggregate/min_ave_max'  \\\n",
    "--header 'Accept: application/json'  \\\n",
    "--header 'Authorization: YOUR_BEARER_TOKEN' \\\n",
    "--header 'Content-Type: application/json'  \\\n",
    "--data '{ \"sensor_ids\": [ \"DEg9FPJkwqj\", \"yk3Qtn2RKZ6\", \"KEnkUJMGPO8\", \"8Y5psrPKW1O\", \"DE4ESPJkwqj\", \"4KXMso9vEgY\", \"ykLJTn2RKZ6\", \"KE3DhJMGPO8\", \"pVxnSDOBqmQ\", \"Q2qkSxlygOB\", \"8xnNCrPKW1O\", \"D2DpfPJkwqj\", \"yDGZCn2RKZ6\", \"K2xESJMGPO8\" ], \"startDate\":  \"2024-03-01 00:00:00\", \"endDate\":  \"2024-04-24 00:00:00\", \"sampleInterval\": \"Day\"}') \\\n",
    "> temp_data.json"
   ]
  },
  {
   "cell_type": "code",
   "execution_count": 30,
   "id": "9c6f1ddd-e2c7-462a-8eaf-0a98b79adce5",
   "metadata": {},
   "outputs": [
    {
     "name": "stdout",
     "output_type": "stream",
     "text": [
      "  % Total    % Received % Xferd  Average Speed   Time    Time     Time  Current\n",
      "                                 Dload  Upload   Total   Spent    Left  Speed\n",
      "100 5236k    0 5235k  100   325   269k     16  0:00:20  0:00:19  0:00:01 1239k\n"
     ]
    }
   ],
   "source": [
    "!(curl --location 'https://api.core.aql.com/v1/sensors/sensor-data/aggregate/min_ave_max'  \\\n",
    "--header 'Accept: application/json'  \\\n",
    "--header 'Authorization: Bearer YOUR_BEARER_TOKEN' \\\n",
    "--header 'Content-Type: application/json'  \\\n",
    "--data '{ \"sensor_ids\": [ \"QLyjtxlygOB\", \"wgBEUpVWkK0\", \"XVEOCJDzj2B\", \"pVMZSDOBqmQ\", \"QL4rHxlygOB\", \"l6rYi7PvmxO\", \"wgJlIpVWkK0\", \"XV83tJDzj2B\", \"DEmDfPJkwqj\", \"4qDKCo9vEgY\", \"pqp0IDOBqmQ\", \"Q2pNSxlygOB\", \"wA40TpVWkK0\", \"X0OBHJDzj2B\"], \"startDate\":  \"2024-03-01 00:00:00\", \"endDate\":  \"2024-04-24 00:00:00\", \"sampleInterval\": \"Day\"}') \\\n",
    "> humidity_data.json"
   ]
  },
  {
   "cell_type": "code",
   "execution_count": 31,
   "id": "dea0b609-ebba-4e9b-966e-5fe240970e1b",
   "metadata": {},
   "outputs": [
    {
     "ename": "SchemaFieldNotFoundError",
     "evalue": "Average",
     "output_type": "error",
     "traceback": [
      "\u001b[0;31m---------------------------------------------------------------------------\u001b[0m",
      "\u001b[0;31mSchemaFieldNotFoundError\u001b[0m                  Traceback (most recent call last)",
      "Cell \u001b[0;32mIn[31], line 1\u001b[0m\n\u001b[0;32m----> 1\u001b[0m temp_data \u001b[38;5;241m=\u001b[39m \u001b[43mpl\u001b[49m\u001b[38;5;241;43m.\u001b[39;49m\u001b[43mread_json\u001b[49m\u001b[43m(\u001b[49m\u001b[38;5;124;43m'\u001b[39;49m\u001b[38;5;124;43mtemp_data.json\u001b[39;49m\u001b[38;5;124;43m'\u001b[39;49m\u001b[43m)\u001b[49m\u001b[38;5;241;43m.\u001b[39;49m\u001b[43mrename\u001b[49m\u001b[43m(\u001b[49m\u001b[43m{\u001b[49m\n\u001b[1;32m      2\u001b[0m \u001b[43m    \u001b[49m\u001b[38;5;124;43m\"\u001b[39;49m\u001b[38;5;124;43mAverage\u001b[39;49m\u001b[38;5;124;43m\"\u001b[39;49m\u001b[43m:\u001b[49m\u001b[38;5;124;43m\"\u001b[39;49m\u001b[38;5;124;43maverageTemp\u001b[39;49m\u001b[38;5;124;43m\"\u001b[39;49m\u001b[43m,\u001b[49m\n\u001b[1;32m      3\u001b[0m \u001b[43m    \u001b[49m\u001b[38;5;124;43m\"\u001b[39;49m\u001b[38;5;124;43mMaximum\u001b[39;49m\u001b[38;5;124;43m\"\u001b[39;49m\u001b[43m:\u001b[49m\u001b[38;5;124;43m\"\u001b[39;49m\u001b[38;5;124;43mmaximumTemp\u001b[39;49m\u001b[38;5;124;43m\"\u001b[39;49m\u001b[43m,\u001b[49m\n\u001b[1;32m      4\u001b[0m \u001b[43m    \u001b[49m\u001b[38;5;124;43m\"\u001b[39;49m\u001b[38;5;124;43mMinimum\u001b[39;49m\u001b[38;5;124;43m\"\u001b[39;49m\u001b[43m:\u001b[49m\u001b[38;5;124;43m\"\u001b[39;49m\u001b[38;5;124;43mminimumTemp\u001b[39;49m\u001b[38;5;124;43m\"\u001b[39;49m\n\u001b[1;32m      5\u001b[0m \u001b[43m}\u001b[49m\u001b[43m)\u001b[49m\n\u001b[1;32m      7\u001b[0m humidity_data \u001b[38;5;241m=\u001b[39m pl\u001b[38;5;241m.\u001b[39mread_json(\u001b[38;5;124m'\u001b[39m\u001b[38;5;124mhumidity_data.json\u001b[39m\u001b[38;5;124m'\u001b[39m)\u001b[38;5;241m.\u001b[39mrename({\n\u001b[1;32m      8\u001b[0m     \u001b[38;5;124m\"\u001b[39m\u001b[38;5;124mAverage\u001b[39m\u001b[38;5;124m\"\u001b[39m:\u001b[38;5;124m\"\u001b[39m\u001b[38;5;124maverageHumidity\u001b[39m\u001b[38;5;124m\"\u001b[39m,\n\u001b[1;32m      9\u001b[0m     \u001b[38;5;124m\"\u001b[39m\u001b[38;5;124mMaximum\u001b[39m\u001b[38;5;124m\"\u001b[39m:\u001b[38;5;124m\"\u001b[39m\u001b[38;5;124mmaximumHumidity\u001b[39m\u001b[38;5;124m\"\u001b[39m,\n\u001b[1;32m     10\u001b[0m     \u001b[38;5;124m\"\u001b[39m\u001b[38;5;124mMinimum\u001b[39m\u001b[38;5;124m\"\u001b[39m:\u001b[38;5;124m\"\u001b[39m\u001b[38;5;124mminimumHumidity\u001b[39m\u001b[38;5;124m\"\u001b[39m\n\u001b[1;32m     11\u001b[0m })\n",
      "File \u001b[0;32m/opt/conda/lib/python3.11/site-packages/polars/dataframe/frame.py:3585\u001b[0m, in \u001b[0;36mDataFrame.rename\u001b[0;34m(self, mapping)\u001b[0m\n\u001b[1;32m   3547\u001b[0m \u001b[38;5;28;01mdef\u001b[39;00m \u001b[38;5;21mrename\u001b[39m(\u001b[38;5;28mself\u001b[39m, mapping: \u001b[38;5;28mdict\u001b[39m[\u001b[38;5;28mstr\u001b[39m, \u001b[38;5;28mstr\u001b[39m] \u001b[38;5;241m|\u001b[39m Callable[[\u001b[38;5;28mstr\u001b[39m], \u001b[38;5;28mstr\u001b[39m]) \u001b[38;5;241m-\u001b[39m\u001b[38;5;241m>\u001b[39m DataFrame:\n\u001b[1;32m   3548\u001b[0m \u001b[38;5;250m    \u001b[39m\u001b[38;5;124;03m\"\"\"\u001b[39;00m\n\u001b[1;32m   3549\u001b[0m \u001b[38;5;124;03m    Rename column names.\u001b[39;00m\n\u001b[1;32m   3550\u001b[0m \n\u001b[0;32m   (...)\u001b[0m\n\u001b[1;32m   3583\u001b[0m \u001b[38;5;124;03m    └─────┴─────┴─────┘\u001b[39;00m\n\u001b[1;32m   3584\u001b[0m \u001b[38;5;124;03m    \"\"\"\u001b[39;00m\n\u001b[0;32m-> 3585\u001b[0m     \u001b[38;5;28;01mreturn\u001b[39;00m \u001b[38;5;28;43mself\u001b[39;49m\u001b[38;5;241;43m.\u001b[39;49m\u001b[43mlazy\u001b[49m\u001b[43m(\u001b[49m\u001b[43m)\u001b[49m\u001b[38;5;241;43m.\u001b[39;49m\u001b[43mrename\u001b[49m\u001b[43m(\u001b[49m\u001b[43mmapping\u001b[49m\u001b[43m)\u001b[49m\u001b[38;5;241;43m.\u001b[39;49m\u001b[43mcollect\u001b[49m\u001b[43m(\u001b[49m\u001b[43m_eager\u001b[49m\u001b[38;5;241;43m=\u001b[39;49m\u001b[38;5;28;43;01mTrue\u001b[39;49;00m\u001b[43m)\u001b[49m\n",
      "File \u001b[0;32m/opt/conda/lib/python3.11/site-packages/polars/lazyframe/frame.py:1700\u001b[0m, in \u001b[0;36mLazyFrame.collect\u001b[0;34m(self, type_coercion, predicate_pushdown, projection_pushdown, simplify_expression, slice_pushdown, comm_subplan_elim, comm_subexpr_elim, no_optimization, streaming, background, _eager)\u001b[0m\n\u001b[1;32m   1697\u001b[0m \u001b[38;5;28;01mif\u001b[39;00m background:\n\u001b[1;32m   1698\u001b[0m     \u001b[38;5;28;01mreturn\u001b[39;00m InProcessQuery(ldf\u001b[38;5;241m.\u001b[39mcollect_concurrently())\n\u001b[0;32m-> 1700\u001b[0m \u001b[38;5;28;01mreturn\u001b[39;00m wrap_df(ldf\u001b[38;5;241m.\u001b[39mcollect())\n",
      "\u001b[0;31mSchemaFieldNotFoundError\u001b[0m: Average"
     ]
    }
   ],
   "source": [
    "temp_data = pl.read_json('temp_data.json')\n",
    "\n",
    "humidity_data = pl.read_json('humidity_data.json')"
   ]
  },
  {
   "cell_type": "code",
   "execution_count": null,
   "id": "4067ecc8-1b23-43d6-9391-01a59b528f53",
   "metadata": {},
   "outputs": [],
   "source": [
    "temp_data = temp_data.rename({\n",
    "    \"Average\":\"averageTemp\",\n",
    "    \"Maximum\":\"maximumTemp\",\n",
    "    \"Minimum\":\"minimumTemp\"\n",
    "})\n",
    "\n",
    "humidity_data = humidity_data.rename({\n",
    "    \"Average\":\"averageHumidity\",\n",
    "    \"Maximum\":\"maximumHumidity\",\n",
    "    \"Minimum\":\"minimumHumidity\"\n",
    "})"
   ]
  },
  {
   "cell_type": "code",
   "execution_count": null,
   "id": "7df01b05-945a-427b-9e19-fc981ca25b49",
   "metadata": {},
   "outputs": [],
   "source": [
    "temp_data.sample(5)"
   ]
  },
  {
   "cell_type": "code",
   "execution_count": null,
   "id": "34f65ee5-3a22-4706-be76-72b8d0c7b189",
   "metadata": {},
   "outputs": [],
   "source": [
    "humidity_data.sample(5)"
   ]
  },
  {
   "cell_type": "code",
   "execution_count": null,
   "id": "6e90d61a-d090-40b5-ac7a-33ef0382fd1a",
   "metadata": {},
   "outputs": [],
   "source": [
    "temp_chart = alt.Chart(temp_data).mark_line(opacity=0.6).encode(\n",
    "    x='sensorReadingDate:T',\n",
    "    y='averageTemp:Q',\n",
    "    color='sensor_id:N',\n",
    "    tooltip=['sensorReadingDate:T', 'averageTemp:Q', 'sensor_id:N']\n",
    ").properties(\n",
    "    title='Temperature Data',\n",
    "    width=1300\n",
    ").interactive()\n",
    "\n",
    "temp_chart"
   ]
  },
  {
   "cell_type": "raw",
   "id": "a06feea0-baba-4860-94f6-805735ca53c1",
   "metadata": {},
   "source": [
    "Can we collect a load of correlated sensors, and plot the correlation between temp and humidity?\n",
    "What sort of data do we have access to? Let's survey the available data for an hour or so, see what interesting stuff we might be able to say.\n"
   ]
  },
  {
   "cell_type": "code",
   "execution_count": null,
   "id": "3496cad6-c74b-479a-ab34-f3f29f16732d",
   "metadata": {},
   "outputs": [],
   "source": [
    "humidity_chart = alt.Chart(humidity_data).mark_line(opacity=0.6).encode(\n",
    "    x='sensorReadingDate:T',\n",
    "    y='averageHumidity:Q',\n",
    "    color='sensor_id:N',\n",
    "    tooltip=['sensorReadingDate:T', 'averageHumidity:Q', 'sensor_id:N']\n",
    ").properties(\n",
    "    width=1300\n",
    ").interactive()\n",
    "humidity_chart"
   ]
  },
  {
   "cell_type": "code",
   "execution_count": null,
   "id": "4e6a227c-ebab-4f72-8ab7-0d348345af9b",
   "metadata": {},
   "outputs": [],
   "source": [
    "t_data = temp_data.select(\n",
    " 'deviceName',\n",
    " 'sensorReadingDate',\n",
    " 'averageTemp'\n",
    "                ) \n",
    "\n",
    "h_data = humidity_data.select(\n",
    " 'deviceName',\n",
    " 'sensorReadingDate',\n",
    " 'averageHumidity')\n",
    "\n",
    "data = t_data.join(h_data, on=['sensorReadingDate', 'deviceName'])\n",
    "\n",
    "selection = alt.selection_point(fields=['deviceName'], bind='legend')\n",
    "\n",
    "\n",
    "alt.Chart(\n",
    "    data\n",
    ").mark_circle(\n",
    ").properties(\n",
    "    width=800, \n",
    "    height=800\n",
    ").encode(\n",
    "    alt.X('averageTemp:Q', scale=alt.Scale(zero=False)),\n",
    "    alt.Y('averageHumidity:Q', scale=alt.Scale(zero=False)),\n",
    "    color='deviceName:N',\n",
    "    opacity=alt.condition(selection, alt.value(0.7), alt.value(0.05))\n",
    ").add_params(\n",
    "    selection\n",
    ").interactive()\n",
    "# what does this tell you about the relationship between temperature and humidity?\n",
    "\n",
    "# should probably cut out the interpolated readings before doing this. Showing how we do that could be an exercise\n",
    "# ask them to determine the precision of the thermometer\n",
    "# maybe create a selection box, then tell the kids to figure out which of the sensors are likely in non-tropical biomes"
   ]
  },
  {
   "cell_type": "code",
   "execution_count": null,
   "id": "777dfb3a-a420-4bcb-8eb7-f6d1b9cae49f",
   "metadata": {},
   "outputs": [],
   "source": [
    " \n",
    "\n",
    "series = data.filter(\n",
    "    pl.col.deviceName == data[0,['deviceName']],\n",
    ").select(\n",
    "    pl.col.sensorReadingDate.alias('ds'),\n",
    "    pl.col.averageTemp.alias('y')\n",
    ").to_pandas()\n",
    "\n",
    "m = Prophet().fit(series)\n",
    "\n",
    "future = m.make_future_dataframe(periods=500, freq='h')\n",
    "\n",
    "forecast = m.predict(future)\n",
    "\n",
    "predicted_data = alt.Chart(forecast).properties(width=1300).mark_line().encode(x='ds', y='yhat') \n",
    "\n",
    "real_data = alt.Chart(series).properties(width=1300).mark_line(color='red').encode(x='ds', y='y') \n",
    "\n",
    "predicted_data + real_data\n",
    "# look at the trend. What is it telling you? what does this suggest about the biomes at Eden?\n",
    "# change the periods variable to a big number and rerun the code. Can you see any problems with \n",
    "# the prediction that your model is now making?"
   ]
  }
 ],
 "metadata": {
  "kernelspec": {
   "display_name": "Python 3 (ipykernel)",
   "language": "python",
   "name": "python3"
  },
  "language_info": {
   "codemirror_mode": {
    "name": "ipython",
    "version": 3
   },
   "file_extension": ".py",
   "mimetype": "text/x-python",
   "name": "python",
   "nbconvert_exporter": "python",
   "pygments_lexer": "ipython3",
   "version": "3.11.6"
  }
 },
 "nbformat": 4,
 "nbformat_minor": 5
}
